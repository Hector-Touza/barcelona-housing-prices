{
 "cells": [
  {
   "cell_type": "markdown",
   "metadata": {},
   "source": [
    "# This will have to be rerun with the whole aggregated data #"
   ]
  },
  {
   "cell_type": "code",
   "execution_count": 1,
   "metadata": {},
   "outputs": [],
   "source": [
    "import pandas as pd"
   ]
  },
  {
   "cell_type": "code",
   "execution_count": 2,
   "metadata": {},
   "outputs": [],
   "source": [
    "data_raw = pd.read_json(\"data_barcelona_gracia_15_05_20.json\")"
   ]
  },
  {
   "cell_type": "code",
   "execution_count": 3,
   "metadata": {},
   "outputs": [
    {
     "data": {
      "text/html": [
       "<div>\n",
       "<style scoped>\n",
       "    .dataframe tbody tr th:only-of-type {\n",
       "        vertical-align: middle;\n",
       "    }\n",
       "\n",
       "    .dataframe tbody tr th {\n",
       "        vertical-align: top;\n",
       "    }\n",
       "\n",
       "    .dataframe thead th {\n",
       "        text-align: right;\n",
       "    }\n",
       "</style>\n",
       "<table border=\"1\" class=\"dataframe\">\n",
       "  <thead>\n",
       "    <tr style=\"text-align: right;\">\n",
       "      <th></th>\n",
       "      <th>ID</th>\n",
       "      <th>reference</th>\n",
       "      <th>seller_type</th>\n",
       "      <th>seller name</th>\n",
       "      <th>zone</th>\n",
       "      <th>asking price</th>\n",
       "      <th>tags</th>\n",
       "      <th>features</th>\n",
       "      <th>building</th>\n",
       "      <th>appliances</th>\n",
       "    </tr>\n",
       "  </thead>\n",
       "  <tbody>\n",
       "    <tr>\n",
       "      <th>0</th>\n",
       "      <td>88882624</td>\n",
       "      <td>Ref.: 14081</td>\n",
       "      <td>Profesional</td>\n",
       "      <td>Atipika Lifestyle Properties</td>\n",
       "      <td>Gràcia, Barcelona</td>\n",
       "      <td>565.000 €</td>\n",
       "      <td>121 m² 3 hab. exterior con ascensor Garaje inc...</td>\n",
       "      <td>[121 m² construidos, 102 m² útiles, 3 habitaci...</td>\n",
       "      <td>[exterior, Con ascensor]</td>\n",
       "      <td>[Aire acondicionado]</td>\n",
       "    </tr>\n",
       "    <tr>\n",
       "      <th>1</th>\n",
       "      <td>88434414</td>\n",
       "      <td>Ref.: G-40537</td>\n",
       "      <td>Profesional</td>\n",
       "      <td>Home Group Gràcia</td>\n",
       "      <td>Vila de Gràcia, Barcelona</td>\n",
       "      <td>460.000 €</td>\n",
       "      <td>145 m² 4 hab. 1ª planta exterior sin ascensor</td>\n",
       "      <td>[145 m² construidos, 143 m² útiles, 4 habitaci...</td>\n",
       "      <td>[Planta 1ª exterior, Sin ascensor]</td>\n",
       "      <td>[Aire acondicionado]</td>\n",
       "    </tr>\n",
       "    <tr>\n",
       "      <th>2</th>\n",
       "      <td>86438907</td>\n",
       "      <td>Ref.: BCN17421</td>\n",
       "      <td>Profesional</td>\n",
       "      <td>Lucas Fox Barcelona</td>\n",
       "      <td>Gràcia, Barcelona</td>\n",
       "      <td>1.180.000 €</td>\n",
       "      <td>189 m² 3 hab. exterior con ascensor</td>\n",
       "      <td>[189 m² construidos, 3 habitaciones, 2 baños, ...</td>\n",
       "      <td>[exterior, Con ascensor]</td>\n",
       "      <td>[Aire acondicionado]</td>\n",
       "    </tr>\n",
       "    <tr>\n",
       "      <th>3</th>\n",
       "      <td>88830935</td>\n",
       "      <td>Ref.: 8252</td>\n",
       "      <td>Profesional</td>\n",
       "      <td>Proddigia</td>\n",
       "      <td>El Camp d'En Grassot i Gràcia Nova, Barcelona</td>\n",
       "      <td>395.000 €</td>\n",
       "      <td>67 m² 1 hab. exterior con ascensor</td>\n",
       "      <td>[67 m² construidos, 45 m² útiles, 1 habitación...</td>\n",
       "      <td>[exterior, Con ascensor]</td>\n",
       "      <td>[Aire acondicionado]</td>\n",
       "    </tr>\n",
       "    <tr>\n",
       "      <th>4</th>\n",
       "      <td>84619157</td>\n",
       "      <td>Ref.: BCN05902</td>\n",
       "      <td>Profesional</td>\n",
       "      <td>Bcn Advisors</td>\n",
       "      <td>Gràcia, Barcelona</td>\n",
       "      <td>690.000 €</td>\n",
       "      <td>201 m² 4 hab. Bajo exterior con ascensor</td>\n",
       "      <td>[201 m² construidos, 188 m² útiles, 4 habitaci...</td>\n",
       "      <td>[Bajo exterior, Con ascensor]</td>\n",
       "      <td>[Aire acondicionado]</td>\n",
       "    </tr>\n",
       "  </tbody>\n",
       "</table>\n",
       "</div>"
      ],
      "text/plain": [
       "         ID       reference  seller_type                    seller name  \\\n",
       "0  88882624     Ref.: 14081  Profesional  Atipika Lifestyle Properties    \n",
       "1  88434414   Ref.: G-40537  Profesional              Home Group Gràcia   \n",
       "2  86438907  Ref.: BCN17421  Profesional           Lucas Fox Barcelona    \n",
       "3  88830935      Ref.: 8252  Profesional                     Proddigia    \n",
       "4  84619157  Ref.: BCN05902  Profesional                  Bcn Advisors    \n",
       "\n",
       "                                            zone asking price  \\\n",
       "0                              Gràcia, Barcelona    565.000 €   \n",
       "1                      Vila de Gràcia, Barcelona    460.000 €   \n",
       "2                              Gràcia, Barcelona  1.180.000 €   \n",
       "3  El Camp d'En Grassot i Gràcia Nova, Barcelona    395.000 €   \n",
       "4                              Gràcia, Barcelona    690.000 €   \n",
       "\n",
       "                                                tags  \\\n",
       "0  121 m² 3 hab. exterior con ascensor Garaje inc...   \n",
       "1      145 m² 4 hab. 1ª planta exterior sin ascensor   \n",
       "2                189 m² 3 hab. exterior con ascensor   \n",
       "3                 67 m² 1 hab. exterior con ascensor   \n",
       "4           201 m² 4 hab. Bajo exterior con ascensor   \n",
       "\n",
       "                                            features  \\\n",
       "0  [121 m² construidos, 102 m² útiles, 3 habitaci...   \n",
       "1  [145 m² construidos, 143 m² útiles, 4 habitaci...   \n",
       "2  [189 m² construidos, 3 habitaciones, 2 baños, ...   \n",
       "3  [67 m² construidos, 45 m² útiles, 1 habitación...   \n",
       "4  [201 m² construidos, 188 m² útiles, 4 habitaci...   \n",
       "\n",
       "                             building            appliances  \n",
       "0            [exterior, Con ascensor]  [Aire acondicionado]  \n",
       "1  [Planta 1ª exterior, Sin ascensor]  [Aire acondicionado]  \n",
       "2            [exterior, Con ascensor]  [Aire acondicionado]  \n",
       "3            [exterior, Con ascensor]  [Aire acondicionado]  \n",
       "4       [Bajo exterior, Con ascensor]  [Aire acondicionado]  "
      ]
     },
     "execution_count": 3,
     "metadata": {},
     "output_type": "execute_result"
    }
   ],
   "source": [
    "data_raw.head()"
   ]
  },
  {
   "cell_type": "code",
   "execution_count": 8,
   "metadata": {},
   "outputs": [
    {
     "name": "stdout",
     "output_type": "stream",
     "text": [
      "121 m² 3 hab. exterior con ascensor Garaje incluido\n",
      "145 m² 4 hab. 1ª planta exterior sin ascensor\n",
      "189 m² 3 hab. exterior con ascensor\n",
      "67 m² 1 hab. exterior con ascensor\n",
      "201 m² 4 hab. Bajo exterior con ascensor\n",
      "255 m² 4 hab. 9ª planta exterior con ascensor Garaje opc. 35.000 €\n",
      "65 m² 2 hab. Bajo exterior sin ascensor\n",
      "71 m² 1 hab. Bajo interior sin ascensor\n",
      "100 m² 3 hab. 3ª planta exterior con ascensor\n",
      "95 m² 4 hab. Entreplanta exterior con ascensor Garaje opc. 25.000 €\n"
     ]
    }
   ],
   "source": [
    "for i in range(10):\n",
    "    print(data_raw[\"tags\"][i])"
   ]
  },
  {
   "cell_type": "code",
   "execution_count": 9,
   "metadata": {},
   "outputs": [
    {
     "name": "stdout",
     "output_type": "stream",
     "text": [
      "['121 m² construidos, 102 m² útiles', '3 habitaciones', '2 baños', 'Terraza', 'Balcón', 'Plaza de garaje incluida en el precio', 'Segunda mano/buen estado', 'Orientación sur', 'Certificación energética: (IPE no indicado)']\n",
      "['145 m² construidos, 143 m² útiles', '4 habitaciones', '1 baño', 'Terraza', 'Segunda mano/buen estado', 'Orientación sur', 'Calefacción individual: Gas natural', 'Certificación energética: en trámite']\n",
      "['189 m² construidos', '3 habitaciones', '2 baños', 'Terraza', 'Segunda mano/buen estado', 'Armarios empotrados', 'Trastero', 'Certificación energética: (IPE no indicado)']\n",
      "['67 m² construidos, 45 m² útiles', '1 habitación', '1 baño', 'Terraza', 'Balcón', 'Armarios empotrados', 'Construido en 1945', 'Certificación energética: (IPE no indicado)']\n",
      "['201 m² construidos, 188 m² útiles', '4 habitaciones', '3 baños', 'Terraza', 'Segunda mano/buen estado', 'Orientación sur', 'Construido en 1994', 'Calefacción individual', 'Certificación energética: en trámite']\n",
      "['255 m² construidos', '4 habitaciones', '3 baños', 'Terraza', 'Plaza de garaje por 35.000 € adicionales', 'Segunda mano/buen estado', 'Armarios empotrados', 'Orientación sur', 'Construido en 1973', 'Calefacción individual', 'Certificación energética: en trámite']\n",
      "['65 m² construidos', '2 habitaciones', '2 baños', 'Segunda mano/buen estado', 'Orientación sur', 'Certificación energética: (194 kWh/m² año)']\n",
      "['71 m² construidos, 60 m² útiles', '1 habitación', '2 baños', 'Terraza', 'Segunda mano/buen estado', 'Armarios empotrados', 'Orientación este', 'Construido en 2019', 'Calefacción individual: Eléctrica', 'Certificación energética: (167 kWh/m² año)']\n",
      "['100 m² construidos', '3 habitaciones', '1 baño', 'Segunda mano/buen estado', 'Orientación sur, oeste', 'Construido en 1964', 'Calefacción individual: Gas natural', 'Certificación energética: (152 kWh/m² año)']\n",
      "['95 m² construidos, 75 m² útiles', '4 habitaciones', '2 baños', 'Balcón', 'Plaza de garaje por 25.000 € adicionales', 'Segunda mano/buen estado', 'Construido en 1972', 'Certificación energética: (132 kWh/m² año)']\n"
     ]
    }
   ],
   "source": [
    "for i in range(10):\n",
    "    print(data_raw[\"features\"][i])"
   ]
  },
  {
   "cell_type": "markdown",
   "metadata": {},
   "source": [
    "We will ignore \"tags\" as it doesn't contain any additional info that isn't in \"features\""
   ]
  },
  {
   "cell_type": "code",
   "execution_count": 22,
   "metadata": {},
   "outputs": [
    {
     "name": "stdout",
     "output_type": "stream",
     "text": [
      "['exterior', 'Con ascensor']\n",
      "['Planta 1ª exterior', 'Sin ascensor']\n",
      "['exterior', 'Con ascensor']\n",
      "['exterior', 'Con ascensor']\n",
      "['Bajo exterior', 'Con ascensor']\n",
      "['Planta 9ª exterior', 'Con ascensor']\n",
      "['Bajo exterior', 'Sin ascensor']\n",
      "['Bajo interior', 'Sin ascensor']\n",
      "['Planta 3ª exterior', 'Con ascensor']\n",
      "['Entreplanta exterior', 'Con ascensor']\n"
     ]
    }
   ],
   "source": [
    "for i in range(10):\n",
    "    print(data_raw[\"building\"][i])"
   ]
  },
  {
   "cell_type": "code",
   "execution_count": 23,
   "metadata": {},
   "outputs": [
    {
     "name": "stdout",
     "output_type": "stream",
     "text": [
      "0.05539070227497527\n"
     ]
    }
   ],
   "source": [
    "buildings = data_raw[\"building\"]\n",
    "interiores = []\n",
    "for building in buildings:\n",
    "    try:\n",
    "        if any(\"interior\" in feature for feature in building):\n",
    "            interiores.append(building)\n",
    "    except:\n",
    "        pass\n",
    "print(len(interiores)/len(buildings))"
   ]
  },
  {
   "cell_type": "markdown",
   "metadata": {},
   "source": [
    "aprox. 5% of the homes are \"interior\""
   ]
  },
  {
   "cell_type": "code",
   "execution_count": 24,
   "metadata": {},
   "outputs": [
    {
     "name": "stdout",
     "output_type": "stream",
     "text": [
      "0.2344213649851632\n"
     ]
    }
   ],
   "source": [
    "sin_ascensor = []\n",
    "for building in buildings:\n",
    "    try:\n",
    "        if any(\"Sin\" in feature for feature in building):\n",
    "            sin_ascensor.append(building)\n",
    "    except:\n",
    "        pass\n",
    "print(len(sin_ascensor)/len(buildings))"
   ]
  },
  {
   "cell_type": "markdown",
   "metadata": {},
   "source": [
    "aprox. 23% of the homes do not have a lift"
   ]
  },
  {
   "cell_type": "code",
   "execution_count": 32,
   "metadata": {},
   "outputs": [
    {
     "name": "stdout",
     "output_type": "stream",
     "text": [
      "['Aire acondicionado']\n",
      "['Aire acondicionado']\n",
      "['Aire acondicionado']\n",
      "['Aire acondicionado']\n",
      "['Aire acondicionado']\n",
      "['Aire acondicionado']\n",
      "None\n",
      "['Aire acondicionado']\n",
      "['Aire acondicionado']\n",
      "None\n"
     ]
    }
   ],
   "source": [
    "for i in range(10):\n",
    "    print(data_raw[\"appliances\"][i])"
   ]
  },
  {
   "cell_type": "code",
   "execution_count": 31,
   "metadata": {},
   "outputs": [
    {
     "name": "stdout",
     "output_type": "stream",
     "text": [
      "['Aire acondicionado', 'Piscina', 'Zonas verdes']\n"
     ]
    }
   ],
   "source": [
    "unique_appliances=[]\n",
    "for home in data_raw[\"appliances\"]:\n",
    "    try: # to avoid raising error if empty\n",
    "        for appliance in home:\n",
    "            if appliance not in unique_appliances:\n",
    "                unique_appliances.append(appliance)\n",
    "    except:\n",
    "        pass\n",
    "print(unique_appliances)"
   ]
  },
  {
   "cell_type": "markdown",
   "metadata": {},
   "source": [
    "\"appliances\" lists three possible features: AC, swimming pool and green spaces\n",
    "\n",
    "### TO DO: rename \"appliances\" to something better fitting (additional_features?) ###"
   ]
  },
  {
   "cell_type": "code",
   "execution_count": null,
   "metadata": {},
   "outputs": [],
   "source": []
  }
 ],
 "metadata": {
  "kernelspec": {
   "display_name": "Python 3",
   "language": "python",
   "name": "python3"
  },
  "language_info": {
   "codemirror_mode": {
    "name": "ipython",
    "version": 3
   },
   "file_extension": ".py",
   "mimetype": "text/x-python",
   "name": "python",
   "nbconvert_exporter": "python",
   "pygments_lexer": "ipython3",
   "version": "3.7.6"
  }
 },
 "nbformat": 4,
 "nbformat_minor": 4
}
